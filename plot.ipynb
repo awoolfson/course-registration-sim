{
 "cells": [
  {
   "cell_type": "code",
   "execution_count": 1,
   "metadata": {},
   "outputs": [],
   "source": [
    "import copy\n",
    "import sys\n",
    "import matplotlib.pyplot as plt\n",
    "sys.path.append(\"src\")\n",
    "\n",
    "import data\n",
    "import gs\n",
    "import test_stability"
   ]
  },
  {
   "cell_type": "code",
   "execution_count": 2,
   "metadata": {},
   "outputs": [],
   "source": [
    "sections = data.section_JSON_to_dict(\"scraping/classes.json\")\n",
    "student_dict = data.generate_students_weighted(sections, 2000)\n",
    "for key in student_dict:\n",
    "    student_dict[key].find_conflicts(sections)\n"
   ]
  },
  {
   "cell_type": "code",
   "execution_count": 13,
   "metadata": {},
   "outputs": [],
   "source": [
    "\n",
    "def monte_carlo_gs(student_dict: dict, section_dict: dict, iteration_limit: int = 500):\n",
    "    best = 9999999999999\n",
    "    iters = 0\n",
    "    while iters < iteration_limit:\n",
    "        iters += 1\n",
    "        \n",
    "        new_student_dict = copy.deepcopy(student_dict)\n",
    "        new_section_dict = copy.deepcopy(section_dict)\n",
    "        new_matching = gs.gale_shapley_match(new_student_dict, new_section_dict, shuffle = True)\n",
    "        \n",
    "        rogues = len(test_stability.is_weakly_stable(new_matching[0], new_matching[1])[1])\n",
    "        \n",
    "        if rogues < best:\n",
    "            best = rogues\n",
    "            \n",
    "    return best\n",
    "\n",
    "    \n",
    "        "
   ]
  },
  {
   "cell_type": "code",
   "execution_count": 21,
   "metadata": {},
   "outputs": [
    {
     "data": {
      "text/plain": [
       "13"
      ]
     },
     "execution_count": 21,
     "metadata": {},
     "output_type": "execute_result"
    }
   ],
   "source": [
    "monte_carlo_gs(student_dict, sections, 1)"
   ]
  }
 ],
 "metadata": {
  "kernelspec": {
   "display_name": "base",
   "language": "python",
   "name": "python3"
  },
  "language_info": {
   "codemirror_mode": {
    "name": "ipython",
    "version": 3
   },
   "file_extension": ".py",
   "mimetype": "text/x-python",
   "name": "python",
   "nbconvert_exporter": "python",
   "pygments_lexer": "ipython3",
   "version": "3.9.13"
  },
  "orig_nbformat": 4
 },
 "nbformat": 4,
 "nbformat_minor": 2
}
